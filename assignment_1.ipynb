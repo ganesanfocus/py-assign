{
 "cells": [
  {
   "cell_type": "code",
   "execution_count": null,
   "metadata": {},
   "outputs": [],
   "source": [
    "# Python  Assignment 1"
   ]
  },
  {
   "cell_type": "code",
   "execution_count": 1,
   "metadata": {},
   "outputs": [
    {
     "name": "stdout",
     "output_type": "stream",
     "text": [
      "Hope AI\n"
     ]
    }
   ],
   "source": [
    "print((\"Hope AI\"))"
   ]
  },
  {
   "cell_type": "code",
   "execution_count": 4,
   "metadata": {},
   "outputs": [
    {
     "name": "stdout",
     "output_type": "stream",
     "text": [
      "Enter your institute name :  Hope AI\n"
     ]
    }
   ],
   "source": [
    "ins_name = input(\"Enter your institute name? : \")\n",
    "print(\"Enter your institute name : \", ins_name)"
   ]
  },
  {
   "cell_type": "code",
   "execution_count": 5,
   "metadata": {},
   "outputs": [
    {
     "name": "stdout",
     "output_type": "stream",
     "text": [
      "Enter your name :  \n",
      "Enter your age :  31\n",
      "Enter your school name :  CBM College\n",
      "Enter your degree :  MCS\n"
     ]
    }
   ],
   "source": [
    "name = input(\"Enter your name? : \")\n",
    "age = int(input(\"Enter your age? : \"))\n",
    "school = input(\"Enter your school name? : \")\n",
    "degree = input(\"Enter your degree? : \")\n",
    "print(\"Enter your name : \", name)\n",
    "print(\"Enter your age : \", age)\n",
    "print(\"Enter your school name : \", school)\n",
    "print(\"Enter your degree : \", degree)"
   ]
  },
  {
   "cell_type": "code",
   "execution_count": null,
   "metadata": {},
   "outputs": [],
   "source": [
    "# Addtion"
   ]
  },
  {
   "cell_type": "code",
   "execution_count": 6,
   "metadata": {},
   "outputs": [
    {
     "name": "stdout",
     "output_type": "stream",
     "text": [
      "a =  43\n",
      "b =  34\n",
      "Add =  77\n"
     ]
    }
   ],
   "source": [
    "a = 43\n",
    "b = 34\n",
    "\n",
    "add = a + b\n",
    "print(\"a = \", a)\n",
    "print(\"b = \", b)\n",
    "print(\"Add = \", add)\n",
    "\n"
   ]
  },
  {
   "cell_type": "code",
   "execution_count": null,
   "metadata": {},
   "outputs": [],
   "source": [
    "# Subtraction"
   ]
  },
  {
   "cell_type": "code",
   "execution_count": 8,
   "metadata": {},
   "outputs": [
    {
     "name": "stdout",
     "output_type": "stream",
     "text": [
      "a =  43\n",
      "b =  34\n",
      "Sub =  9\n"
     ]
    }
   ],
   "source": [
    "a = 43\n",
    "b = 34\n",
    "\n",
    "sub = a - b\n",
    "print(\"a = \", a)\n",
    "print(\"b = \", b)\n",
    "print(\"Sub = \", sub)"
   ]
  },
  {
   "cell_type": "code",
   "execution_count": null,
   "metadata": {},
   "outputs": [],
   "source": [
    "# Multiplication"
   ]
  },
  {
   "cell_type": "code",
   "execution_count": 9,
   "metadata": {},
   "outputs": [
    {
     "name": "stdout",
     "output_type": "stream",
     "text": [
      "a =  63\n",
      "b =  97\n",
      "Mul =  6111\n"
     ]
    }
   ],
   "source": [
    "a = 63\n",
    "b = 97\n",
    "print(\"a = \", a)\n",
    "print(\"b = \", b)\n",
    "mul = a * b\n",
    "print(\"Mul = \", mul)"
   ]
  },
  {
   "cell_type": "code",
   "execution_count": null,
   "metadata": {},
   "outputs": [],
   "source": [
    "# Division"
   ]
  },
  {
   "cell_type": "code",
   "execution_count": 11,
   "metadata": {},
   "outputs": [
    {
     "name": "stdout",
     "output_type": "stream",
     "text": [
      "a =  76\n",
      "b =  31\n",
      "Float Div =  2.4516129032258065\n"
     ]
    }
   ],
   "source": [
    "a = 76\n",
    "b = 31\n",
    "print(\"a = \", a)\n",
    "print(\"b = \", b)\n",
    "div = a / b\n",
    "print(\"Float Div = \", div)"
   ]
  },
  {
   "cell_type": "code",
   "execution_count": null,
   "metadata": {},
   "outputs": [],
   "source": [
    "# Floor Division"
   ]
  },
  {
   "cell_type": "code",
   "execution_count": 12,
   "metadata": {},
   "outputs": [
    {
     "name": "stdout",
     "output_type": "stream",
     "text": [
      "a =  76\n",
      "b =  31\n",
      "Floor Div =  2\n"
     ]
    }
   ],
   "source": [
    "a = 76\n",
    "b = 31\n",
    "print(\"a = \", a)\n",
    "print(\"b = \", b)\n",
    "floor_div = a // b\n",
    "print(\"Floor Div = \", floor_div)"
   ]
  },
  {
   "cell_type": "code",
   "execution_count": null,
   "metadata": {},
   "outputs": [],
   "source": [
    "# Modulo \n"
   ]
  },
  {
   "cell_type": "code",
   "execution_count": 13,
   "metadata": {},
   "outputs": [
    {
     "name": "stdout",
     "output_type": "stream",
     "text": [
      "a =  76\n",
      "b =  31\n",
      "Mod =  14\n"
     ]
    }
   ],
   "source": [
    "a = 76\n",
    "b = 31\n",
    "print(\"a = \", a)\n",
    "print(\"b = \", b)\n",
    "mod = a % b\n",
    "print(\"Mod = \", mod)"
   ]
  },
  {
   "cell_type": "code",
   "execution_count": null,
   "metadata": {},
   "outputs": [],
   "source": [
    "#Power \n"
   ]
  },
  {
   "cell_type": "code",
   "execution_count": 14,
   "metadata": {},
   "outputs": [
    {
     "name": "stdout",
     "output_type": "stream",
     "text": [
      "a =  4\n",
      "b =  4\n",
      "Power =  256\n"
     ]
    }
   ],
   "source": [
    "a=4\n",
    "b=4\n",
    "print(\"a = \", a)\n",
    "print(\"b = \", b)\n",
    "power = a ** b\n",
    "print(\"Power = \", power)"
   ]
  }
 ],
 "metadata": {
  "kernelspec": {
   "display_name": "Python 3",
   "language": "python",
   "name": "python3"
  },
  "language_info": {
   "codemirror_mode": {
    "name": "ipython",
    "version": 3
   },
   "file_extension": ".py",
   "mimetype": "text/x-python",
   "name": "python",
   "nbconvert_exporter": "python",
   "pygments_lexer": "ipython3",
   "version": "3.11.5"
  }
 },
 "nbformat": 4,
 "nbformat_minor": 2
}
